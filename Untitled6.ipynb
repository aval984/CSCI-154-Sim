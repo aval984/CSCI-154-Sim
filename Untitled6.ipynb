{
 "cells": [
  {
   "cell_type": "code",
   "execution_count": 2,
   "metadata": {},
   "outputs": [
    {
     "name": "stdout",
     "output_type": "stream",
     "text": [
      "beta: 0.0003255208333333333\n"
     ]
    },
    {
     "data": {
      "image/png": "[encoded data removed]",
      "text/plain": [
       "<Figure size 432x288 with 1 Axes>"
      ]
     },
     "metadata": {
      "needs_background": "light"
     },
     "output_type": "display_data"
    },
    {
     "data": {
      "text/plain": [
       "<Figure size 432x288 with 0 Axes>"
      ]
     },
     "metadata": {},
     "output_type": "display_data"
    }
   ],
   "source": [
    "\"\"\"As SIR2.py, but including constant vaccination.\"\"\"\n",
    "\n",
    "from numpy import zeros, linspace\n",
    "import matplotlib.pyplot as plt\n",
    "\n",
    "# Time unit: 1 h\n",
    "beta = 10./(40*8*24)\n",
    "beta /= 4            # reduce beta compared to SIR1.py\n",
    "print ('beta:', beta)\n",
    "gamma = 3./(15*24)\n",
    "dt = 0.1             # 6 min\n",
    "D = 300              # Simulate for D days\n",
    "N_t = int(D*24/dt)   # Corresponding no of hours\n",
    "nu = 1./(24*300)      # Average loss of immunity: 50 days\n",
    "p = 0.01             # Effect of vaccination\n",
    "pi = 1./200           # Average loss of vaccine effect: 50 days\n",
    "\n",
    "t = linspace(0, N_t*dt, N_t+1)\n",
    "S = zeros(N_t+1)\n",
    "I = zeros(N_t+1)\n",
    "R = zeros(N_t+1)\n",
    "V = zeros(N_t+1)\n",
    "\n",
    "# Initial condition\n",
    "S[0] = 50\n",
    "I[0] = 1\n",
    "R[0] = 0\n",
    "V[0] = 0\n",
    "\n",
    "# Step equations forward in time\n",
    "for n in range(N_t):\n",
    "    S[n+1] = S[n] - dt*beta*S[n]*I[n] + dt*nu*R[n] - dt*p*S[n] + dt*pi*V[n]\n",
    "    V[n+1] = V[n] + dt*p*S[n] - dt*pi*V[n]\n",
    "    I[n+1] = I[n] + dt*beta*S[n]*I[n] - dt*gamma*I[n]\n",
    "    R[n+1] = R[n] + dt*gamma*I[n] - dt*nu*R[n]\n",
    "    loss = int(V[n+1] + S[n+1] + R[n+1] + I[n+1]) - \\\n",
    "           int(V[0] + S[0] + R[0] + I[0])\n",
    "    if loss > 0:\n",
    "        print ('loss: %d' % loss)\n",
    "\n",
    "fig = plt.figure()\n",
    "t /= 24.0  # convert hours to days in plots\n",
    "l1, l2, l3, l4 = plt.plot(t, S, t, I, t, R, t, V)\n",
    "fig.legend((l1, l2, l3, l4), ('S', 'I', 'R', 'V'), 'upper right')\n",
    "plt.xlabel('days')\n",
    "plt.show()\n",
    "plt.savefig('tmp.pdf'); plt.savefig('tmp.png')"
   ]
  },
  {
   "cell_type": "code",
   "execution_count": null,
   "metadata": {},
   "outputs": [],
   "source": []
  },
  {
   "cell_type": "code",
   "execution_count": null,
   "metadata": {},
   "outputs": [],
   "source": []
  }
 ],
 "metadata": {
  "kernelspec": {
   "display_name": "Python 3",
   "language": "python",
   "name": "python3"
  },
  "language_info": {
   "codemirror_mode": {
    "name": "ipython",
    "version": 3
   },
   "file_extension": ".py",
   "mimetype": "text/x-python",
   "name": "python",
   "nbconvert_exporter": "python",
   "pygments_lexer": "ipython3",
   "version": "3.7.1"
  }
 },
 "nbformat": 4,
 "nbformat_minor": 2
}
